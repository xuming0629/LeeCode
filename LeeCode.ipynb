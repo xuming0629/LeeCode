{
 "cells": [
  {
   "cell_type": "code",
   "execution_count": 16,
   "metadata": {},
   "outputs": [],
   "source": [
    "import sys\n",
    "import time\n",
    "\n",
    "import numpy as np\n",
    "import matplotlib.pyplot as plt"
   ]
  },
  {
   "cell_type": "markdown",
   "metadata": {},
   "source": [
    "### 两数之和\n",
    "\n",
    "给定一个整数数组和一个目标值，找出数组中和为目标值的两个数。\n",
    "\n",
    "你可以假设每个输入只对应一种答案，且同样的元素不能被重复利用。\n",
    "\n",
    "#### 示例\n",
    "给定 nums = [2, 7, 11, 15], target = 9\n",
    "\n",
    "因为 nums[0] + nums[1] = 2 + 7 = 9\n",
    "所以返回 [0, 1]"
   ]
  },
  {
   "cell_type": "code",
   "execution_count": 22,
   "metadata": {},
   "outputs": [],
   "source": [
    "class TwoSum(object):\n",
    "    \"\"\"\n",
    "    :type nums: List[int]\n",
    "    :type target: int\n",
    "    :rtype: List[int]\n",
    "    \"\"\"\n",
    "    def __init__(self,nums,target):\n",
    "        self.nums = nums\n",
    "        self.target = target\n",
    "        \n",
    "    def twosum1(self):\n",
    "        nums = self.nums\n",
    "        target = self.target\n",
    "        \n",
    "        n = len(nums)\n",
    "        for x in range(n):\n",
    "            for y in range(x+1,n):\n",
    "                if nums[x] == target - nums[y]:\n",
    "                    return x,y\n",
    "                    break\n",
    "                else:\n",
    "                    continue\n",
    "    def twosum2(self):\n",
    "        nums = self.nums\n",
    "        target = self.target\n",
    "        \n",
    "        n = len(nums)\n",
    "        for x in range(n):\n",
    "            value = target - nums[x]\n",
    "            if value in nums:\n",
    "                y = nums.index(value)\n",
    "                \n",
    "                if x == y:\n",
    "                    continue\n",
    "                else:\n",
    "                    return x, y\n",
    "                    break\n",
    "            else:\n",
    "                continue\n",
    "    \n",
    "    def twosum3(self):\n",
    "        nums = self.nums\n",
    "        target = self.target\n",
    "        \n",
    "        for k, i in enumerate(nums):\n",
    "            if target - i in nums[k + 1:]:\n",
    "                return [k, nums[k + 1:].index(target - i) + k + 1]\n",
    "    \n",
    "    def twosum4(self):\n",
    "        nums = self.nums\n",
    "        target = self.target\n",
    "        \n",
    "        n = len(nums)\n",
    "        dic = {}\n",
    "        for x in range(n):\n",
    "            value = target - nums[x]\n",
    "            if nums[x] in dic:\n",
    "                return dic[nums[x]],x\n",
    "            else:\n",
    "                dic[value] = x\n",
    "        \n",
    "        "
   ]
  },
  {
   "cell_type": "code",
   "execution_count": 26,
   "metadata": {},
   "outputs": [
    {
     "name": "stdout",
     "output_type": "stream",
     "text": [
      "sum of the two number  (0, 1)\n"
     ]
    }
   ],
   "source": [
    "nums = [2, 7, 11, 15]\n",
    "target = 9\n",
    "\n",
    "temp = TwoSum(nums,target)\n",
    "TNsum = temp.twosum4()\n",
    "print(\"sum of the two number \",TNsum)\n"
   ]
  },
  {
   "cell_type": "markdown",
   "metadata": {},
   "source": [
    "### 两数相加\n",
    "给定两个非空链表来表示两个非负整数。位数按照逆序方式存储，它们的每个节点只存储单个数字。将两数相加返回一个新的链表。\n",
    "\n",
    "你可以假设除了数字 0 之外，这两个数字都不会以零开头。"
   ]
  },
  {
   "cell_type": "code",
   "execution_count": null,
   "metadata": {},
   "outputs": [],
   "source": []
  }
 ],
 "metadata": {
  "kernelspec": {
   "display_name": "Python 3",
   "language": "python",
   "name": "python3"
  },
  "language_info": {
   "codemirror_mode": {
    "name": "ipython",
    "version": 3
   },
   "file_extension": ".py",
   "mimetype": "text/x-python",
   "name": "python",
   "nbconvert_exporter": "python",
   "pygments_lexer": "ipython3",
   "version": "3.6.6"
  }
 },
 "nbformat": 4,
 "nbformat_minor": 2
}
